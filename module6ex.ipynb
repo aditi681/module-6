{
 "cells": [
  {
   "cell_type": "markdown",
   "id": "afab854c-3782-420e-a8dc-ca30230c8af4",
   "metadata": {},
   "source": [
    "# Title\n"
   ]
  },
  {
   "cell_type": "markdown",
   "id": "aa4b957f-d42a-4f3a-900b-58a68997b417",
   "metadata": {},
   "source": [
    "## Introduction\n",
    "This notebook provides a guide on data science essentials, including languages, libraries, tools, and sample code for basic operations.\n"
   ]
  },
  {
   "cell_type": "markdown",
   "id": "580eb4a0-f8f3-4840-a883-3157deada8ff",
   "metadata": {},
   "source": [
    "## Data Science Languages\n",
    "- Python\n",
    "- R\n",
    "- SQL\n",
    "- Julia\n",
    "- Scala\n"
   ]
  },
  {
   "cell_type": "markdown",
   "id": "7b712a9b-8d94-4679-85d0-c0305226e721",
   "metadata": {},
   "source": [
    "## Data Science Libraries\n",
    "- Pandas\n",
    "- NumPy\n",
    "- Matplotlib\n",
    "- SciKit-Learn\n",
    "- TensorFlow"
   ]
  },
  {
   "cell_type": "markdown",
   "id": "496afe46-a508-48f1-b5a5-e8d32c03bdc0",
   "metadata": {},
   "source": [
    "## Data Science Tools\n",
    "| Tool           | Description                     |\n",
    "|----------------|---------------------------------|\n",
    "| Jupyter        | Interactive notebook for coding |\n",
    "| RStudio        | IDE for R                       |\n",
    "| Apache Spark   | Big data processing             |\n",
    "| TensorFlow     | Deep learning framework         |\n"
   ]
  },
  {
   "cell_type": "markdown",
   "id": "85332684-d67a-4a38-b62c-bac87bc5045a",
   "metadata": {},
   "source": [
    "## Arithmetic Expression Examples\n",
    "Here we demonstrate basic arithmetic operations like multiplication and addition."
   ]
  },
  {
   "cell_type": "code",
   "execution_count": 6,
   "id": "547b7f34-ffd2-4360-b45c-4f921006d882",
   "metadata": {},
   "outputs": [
    {
     "data": {
      "text/plain": [
       "17"
      ]
     },
     "execution_count": 6,
     "metadata": {},
     "output_type": "execute_result"
    }
   ],
   "source": [
    "# Multiply and add numbers\n",
    "result = (3 * 4) + 5\n",
    "\n",
    "result"
   ]
  },
  {
   "cell_type": "code",
   "execution_count": 8,
   "id": "65db8229-d75d-4109-8c46-707a42e6831e",
   "metadata": {},
   "outputs": [
    {
     "data": {
      "text/plain": [
       "3.3333333333333335"
      ]
     },
     "execution_count": 8,
     "metadata": {},
     "output_type": "execute_result"
    }
   ],
   "source": [
    "# Convert minutes to hours\n",
    "minutes = 200\n",
    "hours = minutes / 60\n",
    "hours\n"
   ]
  },
  {
   "attachments": {},
   "cell_type": "markdown",
   "id": "704c4219-9991-4b99-9176-42980f4095c3",
   "metadata": {},
   "source": [
    "## Objectives\n",
    "- Understand basic data science tools and languages\n",
    "- Use common libraries for data science tasks\n",
    "- Perform basic arithmetic operations in code\n",
    "- Convert units within code"
   ]
  },
  {
   "cell_type": "markdown",
   "id": "5ebad074-333f-4c55-9152-10bc73d9aa6c",
   "metadata": {},
   "source": [
    "## Author\n",
    "Aditi Jagdale\n"
   ]
  },
  {
   "cell_type": "code",
   "execution_count": null,
   "id": "9ce91bb3-89e8-4270-9ec8-47c514eb113d",
   "metadata": {},
   "outputs": [],
   "source": []
  }
 ],
 "metadata": {
  "kernelspec": {
   "display_name": "Python 3 (ipykernel)",
   "language": "python",
   "name": "python3"
  },
  "language_info": {
   "codemirror_mode": {
    "name": "ipython",
    "version": 3
   },
   "file_extension": ".py",
   "mimetype": "text/x-python",
   "name": "python",
   "nbconvert_exporter": "python",
   "pygments_lexer": "ipython3",
   "version": "3.10.0"
  }
 },
 "nbformat": 4,
 "nbformat_minor": 5
}
